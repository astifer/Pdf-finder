{
  "nbformat": 4,
  "nbformat_minor": 0,
  "metadata": {
    "colab": {
      "provenance": []
    },
    "kernelspec": {
      "name": "python3",
      "display_name": "Python 3"
    },
    "language_info": {
      "name": "python"
    }
  },
  "cells": [
    {
      "cell_type": "code",
      "execution_count": null,
      "metadata": {
        "id": "Rc_jrHSIUp10"
      },
      "outputs": [],
      "source": [
        "!pip install python-Levenshtein\n",
        "!pip install fitz\n",
        "!pip install Levenshtein\n",
        "!pip install PyMuPDF"
      ]
    },
    {
      "cell_type": "code",
      "source": [
        "import pandas as pd\n",
        "import json\n",
        "import string\n",
        "from sklearn.model_selection import train_test_split\n",
        "from Levenshtein import distance as lev\n",
        "import fitz\n",
        "from nltk.tokenize import sent_tokenize\n",
        "import nltk\n",
        "nltk.download('punkt')\n",
        "nltk.download('stopwords')\n",
        "nltk.download('wordnet')"
      ],
      "metadata": {
        "id": "MbOlvgOMaEQi",
        "colab": {
          "base_uri": "https://localhost:8080/"
        },
        "outputId": "0b595113-486e-425f-e140-198938b199a2"
      },
      "execution_count": null,
      "outputs": [
        {
          "output_type": "stream",
          "name": "stderr",
          "text": [
            "[nltk_data] Downloading package punkt to /root/nltk_data...\n",
            "[nltk_data]   Unzipping tokenizers/punkt.zip.\n",
            "[nltk_data] Downloading package stopwords to /root/nltk_data...\n",
            "[nltk_data]   Unzipping corpora/stopwords.zip.\n",
            "[nltk_data] Downloading package wordnet to /root/nltk_data...\n"
          ]
        },
        {
          "output_type": "execute_result",
          "data": {
            "text/plain": [
              "True"
            ]
          },
          "metadata": {},
          "execution_count": 2
        }
      ]
    },
    {
      "cell_type": "code",
      "source": [
        "def analyze_file_sent(name, phrase):\n",
        "\n",
        "  doc = fitz.open(name)\n",
        "  print(len(doc))\n",
        "\n",
        "  phrase_split = phrase.split()\n",
        "  l = len(phrase)\n",
        "  page_count = 0\n",
        "  info = []\n",
        "\n",
        "  for page in doc:\n",
        "    page_count+=1\n",
        "\n",
        "    text = sent_tokenize(page.get_text(), language='russian')\n",
        "    print(text[:10])\n",
        "    for sent in text:\n",
        "\n",
        "      if sent in phrase_split:\n",
        "        area = page.search_for(sent)\n",
        "        page.add_highlight_annot(sent)\n",
        "      else:\n",
        "        break\n",
        "        dist = lev(sent,phrase)\n",
        "        # print(dist/l, end=' ')\n",
        "        if dist/l < 0.7:\n",
        "          print()\n",
        "        if dist>100000:\n",
        "          if len(word) == len(word2):\n",
        "            descr = 'Изменен символ: ' + word + ' and ' + word2\n",
        "          else:\n",
        "            descr = 'Разная длина слов: ' + word + ' and ' + word2\n",
        "\n",
        "          info.append(\n",
        "              {'filename': name.split('/')[-1], 'page': page_count, 'match': jaccard(word, word2), 'lev': lev(word,word2), 'subject':word, 'description': descr}\n",
        "              )\n",
        "          area = page.search_for(word)\n",
        "          page.add_highlight_annot(area)\n",
        "\n",
        "\n",
        "  doc.save(\"highlighted_text.pdf\")\n",
        "\n",
        "\n",
        "def process_mask(row_mask, t=4):\n",
        "  '''\n",
        "  Убирает все последовательности единиц короче <t>\n",
        "  Если есть один нуль между единицами, кастует его к единице\n",
        "  '''\n",
        "\n",
        "  n = len(row_mask)\n",
        "  post_mask = [0]*(n)\n",
        "  hold = t # длина условного эталона - 3\n",
        "  c=0\n",
        "\n",
        "  for i in range(n):\n",
        "    if row_mask[i]:\n",
        "      c+=1\n",
        "    else:\n",
        "      if c >= hold:\n",
        "        for j in range(i,i-c,-1): post_mask[j]=1\n",
        "        c = 0\n",
        "\n",
        "  for i in range(1,n-1):\n",
        "    if post_mask[i]==0 and post_mask[i-1]==1 and post_mask[i+1]==1:\n",
        "      post_mask[i]=1\n",
        "\n",
        "  return post_mask\n",
        "\n",
        "\n",
        "def jaccard(list1, list2):\n",
        "  list1, list2 = list(list1), list(list2)\n",
        "  intersection = len([x1==x2 for (x1,x2) in zip(list1,list2)])\n",
        "  union = (len(list1) + len(list2))\n",
        "  return float(intersection)/union\n",
        "\n",
        "def split_s(s):\n",
        "  return [char for char in s]\n",
        "\n",
        "\n",
        "def analyze_file(name, phrase):\n",
        "  doc = fitz.open(name)\n",
        "  phrase_split = phrase.split()\n",
        "  l = len(phrase)\n",
        "  page_count = 0\n",
        "  info = []\n",
        "\n",
        "  for page in doc:\n",
        "    page_count+=1\n",
        "\n",
        "    text = page.get_text().split()\n",
        "    text = [word for word in text if len(word)>3]\n",
        "\n",
        "    mask = []\n",
        "\n",
        "    for word in text:\n",
        "      len_w = len(word)\n",
        "\n",
        "      if word in phrase_split:\n",
        "        mask.append(1)\n",
        "      else:\n",
        "        flag = False\n",
        "        for word2 in phrase_split:\n",
        "          if (len(word2)-len(word)) > 7:\n",
        "            continue\n",
        "          else:\n",
        "            dist = lev(word,word2)/len_w\n",
        "            if dist<0.2:\n",
        "              if len(word) == len(word2): descr = 'Изменен символ: ' + word + ' and ' + word2\n",
        "              else: descr = 'Разная длина слов: ' + word + ' and ' + word2\n",
        "\n",
        "              info.append({'filename': name.split('/')[-1], 'page': page_count, 'match': jaccard(word, word2), 'lev': lev(word,word2), 'subject':word, 'description': descr})\n",
        "              mask.append(1)\n",
        "              flag = True\n",
        "              break\n",
        "          if flag:\n",
        "            break\n",
        "\n",
        "        if not(flag):\n",
        "          mask.append(0)\n",
        "\n",
        "    mask = process_mask(mask, 4)\n",
        "\n",
        "    for r, word in zip(mask, text):\n",
        "      if r: page.add_highlight_annot(page.search_for(word))\n",
        "\n",
        "\n",
        "  doc.save(\"highlighted_text.pdf\")\n",
        "  return info\n",
        "\n",
        "def make_csv(info):\n",
        "  df = pd.DataFrame(info, columns=['filename','page','match','lev','subject','description'])\n",
        "  df.to_csv('info.csv')\n",
        "\n",
        "def main(name,phrase):\n",
        "\n",
        "  info = analyze_file(name, phrase)\n",
        "  make_csv(info)\n",
        "\n",
        "  return info\n"
      ],
      "metadata": {
        "id": "BFviVMmH1xHN"
      },
      "execution_count": null,
      "outputs": []
    },
    {
      "cell_type": "code",
      "source": [
        "name = './example.pdf'\n",
        "phrase = 'Слова Words'\n",
        "\n",
        "info = main(name, phrase)\n",
        "make_csv(info)"
      ],
      "metadata": {
        "id": "wv7yvZABDkhd"
      },
      "execution_count": null,
      "outputs": []
    },
    {
      "cell_type": "code",
      "source": [
        "len(info)"
      ],
      "metadata": {
        "colab": {
          "base_uri": "https://localhost:8080/"
        },
        "id": "kANjOil1MmW2",
        "outputId": "94275aca-38f7-4900-86d9-912a69994d08"
      },
      "execution_count": null,
      "outputs": [
        {
          "output_type": "execute_result",
          "data": {
            "text/plain": [
              "93"
            ]
          },
          "metadata": {},
          "execution_count": 71
        }
      ]
    },
    {
      "cell_type": "code",
      "source": [
        "df = pd.read_csv('./info.csv')"
      ],
      "metadata": {
        "id": "-02ePG1Qo5aQ"
      },
      "execution_count": null,
      "outputs": []
    },
    {
      "cell_type": "code",
      "source": [
        "df.head()"
      ],
      "metadata": {
        "colab": {
          "base_uri": "https://localhost:8080/",
          "height": 297
        },
        "id": "X7t5duxMo_AJ",
        "outputId": "b641b4ac-5b52-496d-aa78-09c6c973161a"
      },
      "execution_count": null,
      "outputs": [
        {
          "output_type": "execute_result",
          "data": {
            "text/plain": [
              "   Unnamed: 0                                           filename  page  \\\n",
              "0           0  Раздел ПД N 1. Пояснительная записка Том 5.7-1...     4   \n",
              "1           1  Раздел ПД N 1. Пояснительная записка Том 5.7-1...     4   \n",
              "2           2  Раздел ПД N 1. Пояснительная записка Том 5.7-1...     4   \n",
              "3           3  Раздел ПД N 1. Пояснительная записка Том 5.7-1...     4   \n",
              "4           4  Раздел ПД N 1. Пояснительная записка Том 5.7-1...     4   \n",
              "\n",
              "      match  lev            subject  \\\n",
              "0  0.481481    1     «Реконструкция   \n",
              "1  0.461538    1             проект   \n",
              "2  0.500000    1            участке   \n",
              "3  0.500000    1             пути»,   \n",
              "4  0.500000    3  «Волго-Балтийское   \n",
              "\n",
              "                                         description  \n",
              "0  Разная длина слов: «Реконструкция and Реконстр...  \n",
              "1              Разная длина слов: проект and проекта  \n",
              "2                Изменен символ: участке and участка  \n",
              "3                  Изменен символ: пути», and пути».  \n",
              "4  Изменен символ: «Волго-Балтийское and Волго-Ба...  "
            ],
            "text/html": [
              "\n",
              "  <div id=\"df-0197df64-d856-419b-a99b-1be47e3b8cef\">\n",
              "    <div class=\"colab-df-container\">\n",
              "      <div>\n",
              "<style scoped>\n",
              "    .dataframe tbody tr th:only-of-type {\n",
              "        vertical-align: middle;\n",
              "    }\n",
              "\n",
              "    .dataframe tbody tr th {\n",
              "        vertical-align: top;\n",
              "    }\n",
              "\n",
              "    .dataframe thead th {\n",
              "        text-align: right;\n",
              "    }\n",
              "</style>\n",
              "<table border=\"1\" class=\"dataframe\">\n",
              "  <thead>\n",
              "    <tr style=\"text-align: right;\">\n",
              "      <th></th>\n",
              "      <th>Unnamed: 0</th>\n",
              "      <th>filename</th>\n",
              "      <th>page</th>\n",
              "      <th>match</th>\n",
              "      <th>lev</th>\n",
              "      <th>subject</th>\n",
              "      <th>description</th>\n",
              "    </tr>\n",
              "  </thead>\n",
              "  <tbody>\n",
              "    <tr>\n",
              "      <th>0</th>\n",
              "      <td>0</td>\n",
              "      <td>Раздел ПД N 1. Пояснительная записка Том 5.7-1...</td>\n",
              "      <td>4</td>\n",
              "      <td>0.481481</td>\n",
              "      <td>1</td>\n",
              "      <td>«Реконструкция</td>\n",
              "      <td>Разная длина слов: «Реконструкция and Реконстр...</td>\n",
              "    </tr>\n",
              "    <tr>\n",
              "      <th>1</th>\n",
              "      <td>1</td>\n",
              "      <td>Раздел ПД N 1. Пояснительная записка Том 5.7-1...</td>\n",
              "      <td>4</td>\n",
              "      <td>0.461538</td>\n",
              "      <td>1</td>\n",
              "      <td>проект</td>\n",
              "      <td>Разная длина слов: проект and проекта</td>\n",
              "    </tr>\n",
              "    <tr>\n",
              "      <th>2</th>\n",
              "      <td>2</td>\n",
              "      <td>Раздел ПД N 1. Пояснительная записка Том 5.7-1...</td>\n",
              "      <td>4</td>\n",
              "      <td>0.500000</td>\n",
              "      <td>1</td>\n",
              "      <td>участке</td>\n",
              "      <td>Изменен символ: участке and участка</td>\n",
              "    </tr>\n",
              "    <tr>\n",
              "      <th>3</th>\n",
              "      <td>3</td>\n",
              "      <td>Раздел ПД N 1. Пояснительная записка Том 5.7-1...</td>\n",
              "      <td>4</td>\n",
              "      <td>0.500000</td>\n",
              "      <td>1</td>\n",
              "      <td>пути»,</td>\n",
              "      <td>Изменен символ: пути», and пути».</td>\n",
              "    </tr>\n",
              "    <tr>\n",
              "      <th>4</th>\n",
              "      <td>4</td>\n",
              "      <td>Раздел ПД N 1. Пояснительная записка Том 5.7-1...</td>\n",
              "      <td>4</td>\n",
              "      <td>0.500000</td>\n",
              "      <td>3</td>\n",
              "      <td>«Волго-Балтийское</td>\n",
              "      <td>Изменен символ: «Волго-Балтийское and Волго-Ба...</td>\n",
              "    </tr>\n",
              "  </tbody>\n",
              "</table>\n",
              "</div>\n",
              "      <button class=\"colab-df-convert\" onclick=\"convertToInteractive('df-0197df64-d856-419b-a99b-1be47e3b8cef')\"\n",
              "              title=\"Convert this dataframe to an interactive table.\"\n",
              "              style=\"display:none;\">\n",
              "        \n",
              "  <svg xmlns=\"http://www.w3.org/2000/svg\" height=\"24px\"viewBox=\"0 0 24 24\"\n",
              "       width=\"24px\">\n",
              "    <path d=\"M0 0h24v24H0V0z\" fill=\"none\"/>\n",
              "    <path d=\"M18.56 5.44l.94 2.06.94-2.06 2.06-.94-2.06-.94-.94-2.06-.94 2.06-2.06.94zm-11 1L8.5 8.5l.94-2.06 2.06-.94-2.06-.94L8.5 2.5l-.94 2.06-2.06.94zm10 10l.94 2.06.94-2.06 2.06-.94-2.06-.94-.94-2.06-.94 2.06-2.06.94z\"/><path d=\"M17.41 7.96l-1.37-1.37c-.4-.4-.92-.59-1.43-.59-.52 0-1.04.2-1.43.59L10.3 9.45l-7.72 7.72c-.78.78-.78 2.05 0 2.83L4 21.41c.39.39.9.59 1.41.59.51 0 1.02-.2 1.41-.59l7.78-7.78 2.81-2.81c.8-.78.8-2.07 0-2.86zM5.41 20L4 18.59l7.72-7.72 1.47 1.35L5.41 20z\"/>\n",
              "  </svg>\n",
              "      </button>\n",
              "      \n",
              "  <style>\n",
              "    .colab-df-container {\n",
              "      display:flex;\n",
              "      flex-wrap:wrap;\n",
              "      gap: 12px;\n",
              "    }\n",
              "\n",
              "    .colab-df-convert {\n",
              "      background-color: #E8F0FE;\n",
              "      border: none;\n",
              "      border-radius: 50%;\n",
              "      cursor: pointer;\n",
              "      display: none;\n",
              "      fill: #1967D2;\n",
              "      height: 32px;\n",
              "      padding: 0 0 0 0;\n",
              "      width: 32px;\n",
              "    }\n",
              "\n",
              "    .colab-df-convert:hover {\n",
              "      background-color: #E2EBFA;\n",
              "      box-shadow: 0px 1px 2px rgba(60, 64, 67, 0.3), 0px 1px 3px 1px rgba(60, 64, 67, 0.15);\n",
              "      fill: #174EA6;\n",
              "    }\n",
              "\n",
              "    [theme=dark] .colab-df-convert {\n",
              "      background-color: #3B4455;\n",
              "      fill: #D2E3FC;\n",
              "    }\n",
              "\n",
              "    [theme=dark] .colab-df-convert:hover {\n",
              "      background-color: #434B5C;\n",
              "      box-shadow: 0px 1px 3px 1px rgba(0, 0, 0, 0.15);\n",
              "      filter: drop-shadow(0px 1px 2px rgba(0, 0, 0, 0.3));\n",
              "      fill: #FFFFFF;\n",
              "    }\n",
              "  </style>\n",
              "\n",
              "      <script>\n",
              "        const buttonEl =\n",
              "          document.querySelector('#df-0197df64-d856-419b-a99b-1be47e3b8cef button.colab-df-convert');\n",
              "        buttonEl.style.display =\n",
              "          google.colab.kernel.accessAllowed ? 'block' : 'none';\n",
              "\n",
              "        async function convertToInteractive(key) {\n",
              "          const element = document.querySelector('#df-0197df64-d856-419b-a99b-1be47e3b8cef');\n",
              "          const dataTable =\n",
              "            await google.colab.kernel.invokeFunction('convertToInteractive',\n",
              "                                                     [key], {});\n",
              "          if (!dataTable) return;\n",
              "\n",
              "          const docLinkHtml = 'Like what you see? Visit the ' +\n",
              "            '<a target=\"_blank\" href=https://colab.research.google.com/notebooks/data_table.ipynb>data table notebook</a>'\n",
              "            + ' to learn more about interactive tables.';\n",
              "          element.innerHTML = '';\n",
              "          dataTable['output_type'] = 'display_data';\n",
              "          await google.colab.output.renderOutput(dataTable, element);\n",
              "          const docLink = document.createElement('div');\n",
              "          docLink.innerHTML = docLinkHtml;\n",
              "          element.appendChild(docLink);\n",
              "        }\n",
              "      </script>\n",
              "    </div>\n",
              "  </div>\n",
              "  "
            ]
          },
          "metadata": {},
          "execution_count": 74
        }
      ]
    },
    {
      "cell_type": "markdown",
      "source": [
        "# токенизация чистка"
      ],
      "metadata": {
        "id": "_rggKdiHjPdC"
      }
    },
    {
      "cell_type": "code",
      "source": [
        "from Levenshtein import distance as lev\n",
        "\n",
        "def jaccard(list1, list2):\n",
        " intersection = len(list(set(list1).intersection(list2)))\n",
        " union = (len(list1) + len(list2)) - intersection\n",
        " return float(intersection) / union\n",
        "\n",
        "def split_s(s):\n",
        "  return [char for char in s]\n",
        "\n",
        "def string_classification(s1,s2):\n",
        "  info = []\n",
        "  if s1==s2:\n",
        "    return 'ok'\n",
        "\n",
        "  common_len_1 = len(s1)\n",
        "  common_len_2 = len(s2)\n",
        "\n",
        "  info.append(('Lenenstain dist: ', lev(s1,s2)/common_len_1))\n",
        "\n",
        "  split_1 = s1.split()\n",
        "  split_2 = s2.split()\n",
        "  info.append(('Jaccar dist: ',1-jaccard(split_1,split_2)))\n",
        "\n",
        "  split_len_1 = len(split_1)\n",
        "  split_len_2 = len(split_2)\n",
        "\n",
        "  count_perfect_words=0\n",
        "  count_almost_words=0\n",
        "  count_extra_words=0\n",
        "\n",
        "  for word in split_1:\n",
        "\n",
        "    if word in split_2:\n",
        "      count_perfect_words+=1\n",
        "    else:\n",
        "      dist = len(word)\n",
        "      almost_word = ''\n",
        "      for word2 in split_2:\n",
        "        curr_dist = lev(word,word2)\n",
        "        if curr_dist < dist:\n",
        "          dist = curr_dist\n",
        "          almost_word = word2\n",
        "\n",
        "\n",
        "      if dist < len(word2)/2 and almost_word!='':\n",
        "        count_almost_words+=1\n",
        "        info.append(('Similar word: '+ word +' and '+almost_word))\n",
        "      else:\n",
        "        count_extra_words+=1\n",
        "        info.append(('Not found similar word: ', word))\n",
        "\n",
        "  for word in split_2:\n",
        "    if word in split_1:\n",
        "      count_perfect_words+=1\n",
        "    else:\n",
        "      dist = len(word)\n",
        "      almost_word = ''\n",
        "      for word2 in split_1:\n",
        "        curr_dist = lev(word,word2)\n",
        "        if curr_dist < dist:\n",
        "          dist = curr_dist\n",
        "          almost_word = word2\n",
        "\n",
        "      if dist < len(word2)/2 and almost_word!='':\n",
        "        count_almost_words+=1\n",
        "        info.append(('Similar word: '+ word +' and '+almost_word))\n",
        "      else:\n",
        "        count_extra_words+=1\n",
        "        info.append(('Not found similar word: ', word))\n",
        "\n",
        "  return info"
      ],
      "metadata": {
        "id": "RI2Pyr3vU-r_"
      },
      "execution_count": null,
      "outputs": []
    },
    {
      "cell_type": "code",
      "source": [
        "s =  'Строительство и что обустройство скважин куста №34 г.Москва'\n",
        "s1 = 'Строительство и обустройство скважин куста №34 г.Москва положение' # лишнее слово\n",
        "s2 = 'Строительство и обустройство скважин кста №34 г.Москва' # пропушен символ\n",
        "s3 = 'Строительство и обустройство скважин №34 г.Москва' # пропушено слово\n",
        "s4 = 'Строительство и обqстройство сквожин куста №34 г.Москва' # замен символ"
      ],
      "metadata": {
        "id": "pw0QJEiuiU4p"
      },
      "execution_count": null,
      "outputs": []
    },
    {
      "cell_type": "code",
      "source": [
        "string_classification(s,s1)"
      ],
      "metadata": {
        "colab": {
          "base_uri": "https://localhost:8080/"
        },
        "id": "g0CMfMy6kjf7",
        "outputId": "ed743120-b96b-4f3b-aa55-c5f771eb6c09"
      },
      "execution_count": null,
      "outputs": [
        {
          "output_type": "execute_result",
          "data": {
            "text/plain": [
              "[('Lenenstain dist: ', 0.23728813559322035),\n",
              " ('Jaccar dist: ', 0.2222222222222222),\n",
              " ('Not found similar word: ', 'что'),\n",
              " ('Not found similar word: ', 'положение')]"
            ]
          },
          "metadata": {},
          "execution_count": 237
        }
      ]
    },
    {
      "cell_type": "code",
      "source": [
        "string_classification(s,s2)"
      ],
      "metadata": {
        "colab": {
          "base_uri": "https://localhost:8080/"
        },
        "id": "hy9miHgzkf2G",
        "outputId": "33a25523-72a7-4abb-95f1-46165f245684"
      },
      "execution_count": null,
      "outputs": [
        {
          "output_type": "execute_result",
          "data": {
            "text/plain": [
              "[('Lenenstain dist: ', 0.0847457627118644),\n",
              " ('Jaccar dist: ', 0.33333333333333337),\n",
              " ('Not found similar word: ', 'что'),\n",
              " 'Similar word: куста and кста',\n",
              " 'Similar word: кста and куста']"
            ]
          },
          "metadata": {},
          "execution_count": 238
        }
      ]
    },
    {
      "cell_type": "code",
      "source": [
        "string_classification(s,s3)"
      ],
      "metadata": {
        "colab": {
          "base_uri": "https://localhost:8080/"
        },
        "id": "Wys-vFrskgpH",
        "outputId": "31dbda60-7000-45f4-e623-c70a1282d1b4"
      },
      "execution_count": null,
      "outputs": [
        {
          "output_type": "execute_result",
          "data": {
            "text/plain": [
              "[('Lenenstain dist: ', 0.1694915254237288),\n",
              " ('Jaccar dist: ', 0.25),\n",
              " ('Not found similar word: ', 'что'),\n",
              " ('Not found similar word: ', 'куста')]"
            ]
          },
          "metadata": {},
          "execution_count": 239
        }
      ]
    },
    {
      "cell_type": "code",
      "source": [
        "string_classification(s,s4)"
      ],
      "metadata": {
        "colab": {
          "base_uri": "https://localhost:8080/"
        },
        "id": "5tMt0abKkhtA",
        "outputId": "5919c8ba-9a5b-4bed-fb22-a3fe25cb4b1f"
      },
      "execution_count": null,
      "outputs": [
        {
          "output_type": "execute_result",
          "data": {
            "text/plain": [
              "[('Lenenstain dist: ', 0.1016949152542373),\n",
              " ('Jaccar dist: ', 0.5),\n",
              " ('Not found similar word: ', 'что'),\n",
              " 'Similar word: обустройство and обqстройство',\n",
              " 'Similar word: скважин and сквожин',\n",
              " 'Similar word: обqстройство and обустройство',\n",
              " 'Similar word: сквожин and скважин']"
            ]
          },
          "metadata": {},
          "execution_count": 240
        }
      ]
    },
    {
      "cell_type": "code",
      "source": [
        "similarity_test"
      ],
      "metadata": {
        "colab": {
          "base_uri": "https://localhost:8080/"
        },
        "id": "NV0w_urakkW0",
        "outputId": "a3f07743-8e79-4597-d437-5d06b084af41"
      },
      "execution_count": null,
      "outputs": [
        {
          "output_type": "execute_result",
          "data": {
            "text/plain": [
              "['«Разработка и реализация комплексного проекта реконструк-\\nции Волго-Балтийского водного пути»  \\nЭтап. Модернизация средств навигационной обстановки. \\nII пусковой комплекс (ПК-2) - Модернизация средств навигаци-\\nонной обстановки – маяки Бугровский, Стороженский, Свир-\\nский, Малый, Хейнялуото \\n ',\n",
              " '«Разработка и реализация комплексного проекта \\nреконструкции Волго-Балтийского водного пути». \\nЭтап. Модернизация средств навигационной обстановки. \\nII пусковой комплекс (ПК-2) - Модернизация средств \\nнавигационной обстановки - маяки Бугровский, \\nСтороженский, Свирский ',\n",
              " 'Основанием для разработки проектной документации по объекту «Разработка и \\nреализация комплексного проекта реконструкции Волго-Балтийского водного пути». Этап. \\n«Модернизация средств навигационной обстановки. II пусковой комплекс (ПК-2) - \\nМодернизация средств навигационной обстановки - маяки Бугровский,Стороженский, \\nСвирсккий   является подпрограмма «Морской и речной транспорт» Государственной  ',\n",
              " 'СП 47.13330.2016 и СП 11-102-97 в составе проектной документации «Разработка и реализа-\\nция комплексного проекта реконструкции Волго-Балтийского водного пути» Этап. Модерни-\\nзация средств навигационной обстановки. II пусковой комплекс (ПК-2) - Модернизация \\nсредств навигационной обстановки – маяки Бугровский, Стороженский, Свирский» в соответ-']"
            ]
          },
          "metadata": {},
          "execution_count": 314
        }
      ]
    },
    {
      "cell_type": "code",
      "source": [
        "clean_text('ПРОЕКТЫ ПО РЕКОНСТР УКЦИИ РЕМОНТОНЕПРИГО ДНЫХ МОСТОВ (СТРОИТЕЛЬСТВО И РЕК ОНСТРУКЦИЯ МОСТОВ И ПУ ТЕПРОВОДОВ)')"
      ],
      "metadata": {
        "colab": {
          "base_uri": "https://localhost:8080/"
        },
        "id": "HYKTZJoMuOzi",
        "outputId": "c94bc6b1-1f78-4110-d068-c126d9704716"
      },
      "execution_count": null,
      "outputs": [
        {
          "output_type": "execute_result",
          "data": {
            "text/plain": [
              "['проекты',\n",
              " 'реконстр',\n",
              " 'укции',\n",
              " 'ремонтонеприго',\n",
              " 'дных',\n",
              " 'мостов',\n",
              " 'строительство',\n",
              " 'рек',\n",
              " 'онструкция',\n",
              " 'мостов',\n",
              " 'тепроводов',\n",
              " 'реконструкция',\n",
              " 'моста',\n",
              " 'через',\n",
              " 'реку',\n",
              " 'фарс',\n",
              " 'автомобильной',\n",
              " 'дороги',\n",
              " 'кавказ']"
            ]
          },
          "metadata": {},
          "execution_count": 318
        }
      ]
    },
    {
      "cell_type": "code",
      "source": [
        "etalon = similarity_test[0]\n",
        "for name in similarity_test:\n",
        "  print(string_classification(etalon,name))"
      ],
      "metadata": {
        "colab": {
          "base_uri": "https://localhost:8080/"
        },
        "id": "B2m2Ekjeyo-w",
        "outputId": "a2f79a75-1341-4de9-c1c1-20f66dfe919e"
      },
      "execution_count": null,
      "outputs": [
        {
          "output_type": "stream",
          "name": "stdout",
          "text": [
            "ok\n",
            "[('Lenenstain dist: ', 0.10884353741496598), ('Jaccar dist: ', 0.475), 'Similar word: реконструк- and реконструкции', 'Similar word: ции and и', 'Similar word: пути» and пути».', ('Not found similar word: ', 'навигаци-'), ('Not found similar word: ', 'онной'), ('Not found similar word: ', '–'), ('Not found similar word: ', 'Свир-'), ('Not found similar word: ', 'ский,'), ('Not found similar word: ', 'Малый,'), ('Not found similar word: ', 'Хейнялуото'), 'Similar word: реконструкции and реконструк-', 'Similar word: пути». and пути»', 'Similar word: Свирский and Свир-']\n",
            "[('Lenenstain dist: ', 0.46598639455782315), ('Jaccar dist: ', 0.6545454545454545), 'Similar word: реконструк- and реконструкции', 'Similar word: ции and и', 'Similar word: пути» and пути».', 'Similar word: навигаци- and реализация', 'Similar word: онной and речной', ('Not found similar word: ', '–'), 'Similar word: Бугровский, and пусковой', ('Not found similar word: ', 'Стороженский,'), 'Similar word: Свир- and и', 'Similar word: ский, and и', 'Similar word: Малый, and для', 'Similar word: Хейнялуото and водного', ('Not found similar word: ', 'Основанием'), ('Not found similar word: ', 'для'), 'Similar word: разработки and «Разработка', 'Similar word: проектной and проекта', ('Not found similar word: ', 'документации'), ('Not found similar word: ', 'по'), 'Similar word: объекту and проекта', 'Similar word: реконструкции and реконструк-', 'Similar word: пути». and пути»', 'Similar word: «Модернизация and Модернизация', ('Not found similar word: ', 'Бугровский,Стороженский,'), ('Not found similar word: ', 'Свирсккий'), ('Not found similar word: ', 'является'), ('Not found similar word: ', 'подпрограмма'), ('Not found similar word: ', '«Морской'), 'Similar word: речной and онной', ('Not found similar word: ', 'транспорт»'), ('Not found similar word: ', 'Государственной')]\n",
            "[('Lenenstain dist: ', 0.3299319727891156), ('Jaccar dist: ', 0.5769230769230769), 'Similar word: реализация and реализа-', 'Similar word: реконструк- and реконструкции', 'Similar word: ции and ция', ('Not found similar word: ', 'навигаци-'), ('Not found similar word: ', 'онной'), ('Not found similar word: ', 'Свир-'), ('Not found similar word: ', 'ский,'), ('Not found similar word: ', 'Малый,'), ('Not found similar word: ', 'Хейнялуото'), ('Not found similar word: ', 'СП'), ('Not found similar word: ', '47.13330.2016'), ('Not found similar word: ', 'СП'), ('Not found similar word: ', '11-102-97'), ('Not found similar word: ', 'в'), ('Not found similar word: ', 'составе'), 'Similar word: проектной and проекта', ('Not found similar word: ', 'документации'), 'Similar word: реализа- and реализация', 'Similar word: ция and ции', 'Similar word: реконструкции and реконструк-', ('Not found similar word: ', 'Модерни-'), 'Similar word: зация and ции', ('Not found similar word: ', 'Свирский»'), ('Not found similar word: ', 'в'), ('Not found similar word: ', 'соответ-')]\n"
          ]
        }
      ]
    },
    {
      "cell_type": "code",
      "source": [],
      "metadata": {
        "id": "KzovHs4VzAlo"
      },
      "execution_count": null,
      "outputs": []
    },
    {
      "cell_type": "code",
      "source": [
        "from Levenshtein import distance as lev\n",
        "\n",
        "def find_abbreviation(name, text, use_only_letters=True, threshold=0.5):\n",
        "  # clean text as list\n",
        "  # not clean name as str ethelone\n",
        "  name = clean_text(name)\n",
        "  abb = create_abb(name, use_only_letters=use_only_letters)\n",
        "\n",
        "  word_dist = []\n",
        "  l = len(abb)\n",
        "\n",
        "  for word in text:\n",
        "    dist = lev(word,abb)/l\n",
        "    word_dist.append([word, dist])\n",
        "\n",
        "  word_dist.sort(key=lambda x: x[1])\n",
        "  matches = [block[0] for block in word_dist if block[1]<threshold]\n",
        "  return abb, matches\n",
        "\n",
        "\n",
        "def create_abb(text, use_only_letters=True):\n",
        "  abb=''\n",
        "  for word in text:\n",
        "    temp_char = word[0]\n",
        "    if use_only_letters:\n",
        "      if temp_char.isalpha():\n",
        "        abb+=temp_char\n",
        "    else:\n",
        "      abb+=temp_char\n",
        "\n",
        "  return abb"
      ],
      "metadata": {
        "id": "UTiTT-ko6Drj"
      },
      "execution_count": null,
      "outputs": []
    },
    {
      "cell_type": "code",
      "source": [
        "s = ['рркпрцвпжфдыдл' ,'слова', 'уха', 'рррцввпэмснкмсноомх', 'ушел', 'муж', 'беда', 'ркпрцвпэмсноксномбссм', 'перед', 'этим', 'есть', 'аббреивиатру', 'найдем', 'ркпрцвпэмсноэксномбссм']\n",
        "example = 'Разработка и реализация комплексного проекта реконструк-\\nции Волго-Балтийского водного пути»  \\nЭтап. Модернизация средств навигационной обстановки. \\nII пусковой комплекс (ПК-2) - Модернизация средств навигаци-\\nонной обстановки – маяки Бугровский, Стороженский, Свир-\\nский, Малый, Хейнялуото \\n '''\n",
        "\n",
        "find_abbreviation(example, s)"
      ],
      "metadata": {
        "colab": {
          "base_uri": "https://localhost:8080/"
        },
        "id": "O719X9v7DiGK",
        "outputId": "be6926aa-8aae-4987-9eda-5f30f3304048"
      },
      "execution_count": null,
      "outputs": [
        {
          "output_type": "execute_result",
          "data": {
            "text/plain": [
              "('рркпрцввпэмснопкмсноомбсссмх',\n",
              " ['ркпрцвпэмсноксномбссм', 'ркпрцвпэмсноэксномбссм', 'рррцввпэмснкмсноомх'])"
            ]
          },
          "metadata": {},
          "execution_count": 273
        }
      ]
    },
    {
      "cell_type": "code",
      "source": [
        "cl_exmpl = clean_text(example) # list of words\n",
        "abb = create_abb(cl_exmpl)\n",
        "print(abb)\n",
        "for name in s:\n",
        "  print(lev(abb,name)/len(abb))"
      ],
      "metadata": {
        "colab": {
          "base_uri": "https://localhost:8080/"
        },
        "id": "MFkcC8Dt6-qt",
        "outputId": "71cb491b-8f1a-4f31-b27a-6b9a412fa92f"
      },
      "execution_count": null,
      "outputs": [
        {
          "output_type": "stream",
          "name": "stdout",
          "text": [
            "0.9285714285714286\n",
            "0.9285714285714286\n",
            "0.9642857142857143\n",
            "0.7142857142857143\n",
            "0.9285714285714286\n",
            "1.0\n",
            "0.32142857142857145\n",
            "1.0\n",
            "0.9642857142857143\n",
            "0.9642857142857143\n",
            "0.25\n",
            "0.9642857142857143\n",
            "0.9285714285714286\n",
            "0.9642857142857143\n",
            "0.9285714285714286\n",
            "0.9285714285714286\n"
          ]
        }
      ]
    },
    {
      "cell_type": "code",
      "source": [
        "def process_mask(row_mask, t=5):\n",
        "  '''\n",
        "  Убирает все последовательности единиц короче <t>\n",
        "  Если есть один нуль между единицами, кастует его к единице\n",
        "  '''\n",
        "  n = len(row_mask)\n",
        "  post_mask = [0]*(n)\n",
        "  hold = t # длина условного эталона - 3\n",
        "  c=0\n",
        "\n",
        "  for i in range(n):\n",
        "    if row_mask[i]:\n",
        "      c+=1\n",
        "    else:\n",
        "      if c >= hold:\n",
        "        for j in range(i,i-c,-1): post_mask[j]=1\n",
        "        c = 0\n",
        "\n",
        "  for i in range(1,n-1):\n",
        "    if post_mask[i]==0 and post_mask[i-1]==1 and post_mask[i+1]==1:\n",
        "      post_mask[i]=1\n",
        "\n",
        "  return post_mask\n",
        "\n"
      ],
      "metadata": {
        "colab": {
          "base_uri": "https://localhost:8080/"
        },
        "id": "51bN-N3WU0vL",
        "outputId": "7a8c24e5-b441-4c0d-8577-9b9064824b0c"
      },
      "execution_count": null,
      "outputs": [
        {
          "output_type": "stream",
          "name": "stdout",
          "text": [
            "[0, 0, 0, 0, 0, 0, 0, 0, 0, 1, 1, 1, 1, 1, 0, 0, 1, 1, 1, 1, 1, 1, 1, 1, 1, 1, 1, 1, 1, 1, 1, 1, 1, 0, 0, 0, 0, 0, 0, 0, 0, 0, 0, 0, 0, 0, 0, 0, 0, 0, 0, 0, 0, 0, 0, 0, 0, 0, 0, 0, 0, 0, 0, 0, 0, 1, 1, 1, 1, 1, 1, 1, 0, 0, 1, 1, 1, 1, 1, 1, 1, 1, 1, 1, 1, 1, 1, 1, 1, 0, 0, 0, 0, 0, 0, 0, 0, 0, 0, 0, 0, 0, 0, 0, 0, 0, 0, 0, 0, 0, 0, 0, 0, 1, 1, 1, 1, 0, 0, 0, 0, 0, 0, 0, 0, 0, 0, 0, 0, 0, 0, 0, 0, 0, 0, 0, 0, 0, 0, 1, 1, 1, 1, 1, 1, 1, 1, 1, 1, 1, 0, 0, 1, 1, 1, 1, 1, 1, 1, 1, 1, 1, 0, 0, 1, 1, 1, 1, 1, 1, 1, 1, 1, 1, 0, 0, 0, 0, 0, 0, 0, 0, 0, 0, 0, 0, 0, 0, 0, 0, 0, 0, 0, 0, 0, 0, 0, 0, 1, 1, 1, 1, 1, 0, 0, 0, 0, 0, 0, 0, 0, 0, 0, 0, 0, 0, 0, 1, 1, 1, 1, 1, 1, 0, 0, 0, 0, 0, 1, 1, 1, 1, 1, 1, 0, 0, 0, 0, 0, 0, 1, 1, 1, 1, 1, 0, 0, 0, 0, 0, 0, 0, 0, 0, 1, 1, 1, 1, 0, 0, 0, 0, 0, 0, 0, 0, 0, 0, 0, 0, 0, 0, 0, 0, 0, 0, 0, 0, 0, 1, 1, 1, 1, 1, 1, 1, 1, 0, 0, 0, 0, 0, 0, 0, 0, 0, 0, 0, 0, 1, 1, 1, 1, 0, 0, 0, 0, 0, 0, 0, 0, 0, 0, 0, 0, 0, 0, 0, 0, 0, 0, 0, 0, 0, 0, 0, 0, 0, 0, 0, 0, 0, 0, 0, 0, 0, 0, 0, 0, 0, 0, 0, 0, 0, 0, 0, 0, 1, 1, 1, 1, 0, 0, 0, 1, 1, 1, 1, 1, 1, 1, 1, 1, 1, 1, 1, 1, 1, 1, 1, 1, 1, 0, 0, 0, 0, 0, 0, 0, 0, 0, 0, 0, 0, 1, 1, 1, 1, 0, 0, 0, 0, 0, 0, 0, 0, 0, 0, 0, 0, 0, 0, 0, 0, 0, 0, 0, 0, 0, 0, 0, 0, 0, 0, 0, 0, 0, 0, 1, 1, 1, 1, 0, 0, 0, 1, 1, 1, 1, 1, 1, 1, 1, 1, 1, 1, 1, 0, 0, 0, 1, 1, 1, 1, 0, 0, 0, 0, 0, 0, 0, 0, 0, 0, 0, 0, 1, 1, 1, 1, 0, 0, 0, 0, 0, 0, 0, 0, 0, 0, 0, 0, 0, 0, 0, 0, 0, 0, 0, 0, 0, 0, 0, 0, 0, 0, 0, 0, 0, 0, 0, 0, 0, 0, 0, 0, 0, 0, 0, 0, 0, 0, 0, 0, 0, 0, 0, 0, 0, 0, 0, 0, 0, 0, 0, 0, 0, 0, 0, 0, 0, 1, 1, 1, 1, 1, 0, 0, 0, 0, 0, 0, 0, 0, 0, 0, 0, 0, 0, 0, 0, 0, 0, 0, 0, 0, 0, 0, 0, 0, 0, 0, 0, 0, 0, 0, 0, 0, 0, 0, 0, 0, 0, 0, 0, 0, 0, 0, 0, 0, 0, 0, 0, 0, 0, 0, 0, 0, 0, 0, 0, 0, 0, 0, 0, 0, 0, 0, 0, 0, 0, 0, 0, 0, 0, 0, 0, 0, 0, 0, 0, 0, 0, 0, 0, 0, 0, 0, 1, 1, 1, 1, 1, 1, 1, 1, 1, 1, 1, 1, 0, 0, 0, 1, 1, 1, 1, 1, 1, 1, 1, 1, 1, 1, 1, 1, 1, 1, 1, 1, 0, 0, 0, 0, 0, 0, 0, 0, 0, 0, 0, 0, 0, 0, 0, 0, 0, 0, 0, 0, 0, 0, 0, 0, 0, 0, 0, 0, 0, 0, 0, 0, 0, 0, 0, 0, 0, 0, 0, 0, 0, 0, 0, 0, 0, 0, 0, 0, 0, 0, 0, 0, 0, 0, 0, 0, 0, 0, 0, 0, 0, 0, 0, 0, 0, 0, 0, 0, 0, 0, 0, 0, 0, 0, 0, 0, 0, 0, 0, 0, 0, 0, 0, 0, 0, 0, 0, 0, 0, 0, 0, 0, 0]\n"
          ]
        }
      ]
    },
    {
      "cell_type": "code",
      "source": [],
      "metadata": {
        "id": "tt4zhd_G8U2y"
      },
      "execution_count": null,
      "outputs": []
    }
  ]
}